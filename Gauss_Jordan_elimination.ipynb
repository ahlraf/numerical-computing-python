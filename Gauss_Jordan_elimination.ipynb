{
 "cells": [
  {
   "cell_type": "code",
   "execution_count": 1,
   "metadata": {},
   "outputs": [],
   "source": [
    "import numpy as np\n",
    "\n",
    "def GaussJordan(m, eps = 1.0/(10**10)):\n",
    "    \"\"\"Puts given matrix (2D array) into the Reduced Row Echelon Form.\n",
    "     Returns True if successful, False if 'm' is singular.\n",
    "     NOTE: make sure all the matrix items support fractions! Int matrix will NOT work!\n",
    "     \"\"\"\n",
    "    (h, w) = (len(m), len(m[0]))\n",
    "    for y in range(0,h):\n",
    "        maxrow = y\n",
    "        #Find max pivot\n",
    "        for y2 in range(y+1, h):    \n",
    "            if abs(m[y2][y]) > abs(m[maxrow][y]):\n",
    "                maxrow = y2\n",
    "            (m[y], m[maxrow]) = (m[maxrow], m[y])\n",
    "        \n",
    "        #Singular?\n",
    "        if abs(m[y][y]) <= eps:\n",
    "            return False\n",
    "        \n",
    "        #Eliminate column y\n",
    "        for y2 in range(y+1, h):\n",
    "            c = m[y2][y] / m[y][y]\n",
    "            for x in range(y, w):\n",
    "                m[y2][x] -= m[y][x] * c\n",
    "                \n",
    "    #Backsubstitute\n",
    "    for y in range(h-1, 0-1, -1): \n",
    "        c  = m[y][y]\n",
    "        for y2 in range(0,y):\n",
    "            for x in range(w-1, y-1, -1):\n",
    "                m[y2][x] -=  m[y][x] * m[y2][y] / c\n",
    "        m[y][y] /= c\n",
    "        #Normalize row y\n",
    "        for x in range(h, w):       \n",
    "            m[y][x] /= c\n",
    "    return True\n",
    "\n",
    "def solve(A, b):\n",
    "    \"\"\"\n",
    "    solves A*x = b\n",
    "    return vector x so that A*x = b\n",
    "    :param A: a matrix in the form of a list of list\n",
    "    :param b: a vector in the form of a simple list of scalars\n",
    "    \"\"\"\n",
    "    _m = [row[:]+[right] for row,right in zip(A,b) ]\n",
    "    return [row[-1] for row in _m] if GaussJordan(_m) else None"
   ]
  },
  {
   "cell_type": "code",
   "execution_count": 3,
   "metadata": {},
   "outputs": [
    {
     "name": "stdout",
     "output_type": "stream",
     "text": [
      "None\n"
     ]
    }
   ],
   "source": [
    "A = [[1.,2.,1.],[2.,6.,-2.],[-1.,-3.,1.]]\n",
    "b = [1.,5.,2.]\n",
    "print(solve(A,b))"
   ]
  },
  {
   "cell_type": "code",
   "execution_count": 4,
   "metadata": {},
   "outputs": [
    {
     "name": "stdout",
     "output_type": "stream",
     "text": [
      "[3.0, 2.0, 1.0]\n"
     ]
    }
   ],
   "source": [
    "A = [[2.,1.,7.],[3.,2.,1.],[1.,3.,0.]]\n",
    "b = [15.,14.,9.]\n",
    "print(solve(A,b))"
   ]
  }
 ],
 "metadata": {
  "kernelspec": {
   "display_name": "Python 3",
   "language": "python",
   "name": "python3"
  },
  "language_info": {
   "codemirror_mode": {
    "name": "ipython",
    "version": 3
   },
   "file_extension": ".py",
   "mimetype": "text/x-python",
   "name": "python",
   "nbconvert_exporter": "python",
   "pygments_lexer": "ipython3",
   "version": "3.8.5"
  }
 },
 "nbformat": 4,
 "nbformat_minor": 4
}
