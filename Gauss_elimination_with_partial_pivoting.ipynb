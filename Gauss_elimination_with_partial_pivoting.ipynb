{
 "cells": [
  {
   "cell_type": "code",
   "execution_count": 2,
   "metadata": {},
   "outputs": [],
   "source": [
    "import numpy as np\n",
    "\n",
    "def GaussElimination_Pivot(A, b):\n",
    "    \"\"\"\n",
    "    Gaussian elimination with partial pivoting.\n",
    "    input: A is an n x n nonsingular matrix\n",
    "           b is an n x 1 vector\n",
    "    output: x is the solution of Ax=b.\n",
    "    post-condition: A and b have been modified. \n",
    "    \"\"\"\n",
    "    n =  len(A)\n",
    "    if b.size != n:\n",
    "        raise ValueError(\"Invalid argument: incompatible sizes between A & b.\", b.size, n)\n",
    "    # k represents the current pivot row. Since GE traverses the matrix in the upper \n",
    "    # right triangle, we also use k for indicating the k-th diagonal column index.\n",
    "    for k in range(n-1):\n",
    "        #Choose largest pivot element below (and including) k\n",
    "        maxindex = abs(A[k:,k]).argmax() + k\n",
    "        if A[maxindex, k] == 0:\n",
    "            raise ValueError(\"Matrix is singular.\")\n",
    "        #Swap rows\n",
    "        if maxindex != k:\n",
    "            A[[k,maxindex]] = A[[maxindex, k]]\n",
    "            b[[k,maxindex]] = b[[maxindex, k]]\n",
    "        for row in range(k+1, n):\n",
    "            multiplier = A[row][k]/A[k][k]\n",
    "            #the only one in this column since the rest are zero\n",
    "            A[row][k] = multiplier\n",
    "            for col in range(k + 1, n):\n",
    "                A[row][col] = A[row][col] - multiplier*A[k][col]\n",
    "            #Equation solution column\n",
    "            b[row] = b[row] - multiplier*b[k]\n",
    "    print(A)\n",
    "    print(b)\n",
    "    x = np.zeros(n)\n",
    "    k = n-1\n",
    "    x[k] = b[k]/A[k,k]\n",
    "    while k >= 0:\n",
    "        x[k] = (b[k] - np.dot(A[k,k+1:],x[k+1:]))/A[k,k]\n",
    "        k = k-1\n",
    "    return x"
   ]
  },
  {
   "cell_type": "code",
   "execution_count": 3,
   "metadata": {},
   "outputs": [
    {
     "name": "stdout",
     "output_type": "stream",
     "text": [
      "[[ 3.          6.         -1.        ]\n",
      " [ 0.33333333  1.          1.33333333]\n",
      " [ 0.33333333  0.          2.33333333]]\n",
      "[[ 7.        ]\n",
      " [12.66666667]\n",
      " [18.66666667]]\n",
      "[1. 2. 8.]\n"
     ]
    }
   ],
   "source": [
    "A = np.array([[1.,2.,2.],[3.,6.,-1.],[1.,3.,1.]])\n",
    "b = np.array([[21.],[7.],[15.]])\n",
    "print(GaussElimination_Pivot(A,b))"
   ]
  }
 ],
 "metadata": {
  "kernelspec": {
   "display_name": "Python 3",
   "language": "python",
   "name": "python3"
  },
  "language_info": {
   "codemirror_mode": {
    "name": "ipython",
    "version": 3
   },
   "file_extension": ".py",
   "mimetype": "text/x-python",
   "name": "python",
   "nbconvert_exporter": "python",
   "pygments_lexer": "ipython3",
   "version": "3.8.5"
  }
 },
 "nbformat": 4,
 "nbformat_minor": 4
}
