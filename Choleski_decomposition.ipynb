{
 "cells": [
  {
   "cell_type": "markdown",
   "metadata": {},
   "source": [
    "**Choleski decomposition**"
   ]
  },
  {
   "cell_type": "code",
   "execution_count": 1,
   "metadata": {},
   "outputs": [],
   "source": [
    "import numpy as np"
   ]
  },
  {
   "cell_type": "markdown",
   "metadata": {},
   "source": [
    "#### Solving equations after LU factorization\n",
    "_Implementation of forward substitution_"
   ]
  },
  {
   "cell_type": "code",
   "execution_count": 2,
   "metadata": {},
   "outputs": [],
   "source": [
    "def forward_substitution(L, b):\n",
    "    \n",
    "    # Get number of rows\n",
    "    n = L.shape[0]\n",
    "    \n",
    "    # Allocating space for the solution vector\n",
    "    y = np.zeros_like(b, dtype=np.double);\n",
    "    \n",
    "    # Here we perform the forward-substitution.  \n",
    "    # Initializing  with the first row.\n",
    "    y[0] = b[0] / L[0, 0]\n",
    "    \n",
    "    # Looping over rows in reverse (from the bottom  up), \n",
    "    # starting with the second to last row, because  the \n",
    "    # last row solve was completed in the last step.\n",
    "    for i in range(1, n):\n",
    "        y[i] = (b[i] - np.dot(L[i,:i], y[:i])) / L[i,i]\n",
    "        \n",
    "    return y"
   ]
  },
  {
   "cell_type": "markdown",
   "metadata": {},
   "source": [
    "_Implementation of back substitution_"
   ]
  },
  {
   "cell_type": "code",
   "execution_count": 3,
   "metadata": {},
   "outputs": [],
   "source": [
    "def back_substitution(U, y):\n",
    "    \n",
    "    # Number of rows\n",
    "    n = U.shape[0]\n",
    "    \n",
    "    # Allocating space for the solution vector\n",
    "    x = np.zeros_like(y, dtype=np.double);\n",
    "\n",
    "    # Here we perform the back-substitution.  \n",
    "    # Initializing with the last row.\n",
    "    x[-1] = y[-1] / U[-1, -1]\n",
    "    \n",
    "    # Looping over rows in reverse (from the bottom up), \n",
    "    # starting with the second to last row, because the \n",
    "    # last row solve was completed in the last step.\n",
    "    for i in range(n-2, -1, -1):\n",
    "        x[i] = (y[i] - np.dot(U[i,i:], x[i:])) / U[i,i]\n",
    "        \n",
    "    return x"
   ]
  },
  {
   "cell_type": "markdown",
   "metadata": {},
   "source": [
    "#### Overall equation solution"
   ]
  },
  {
   "cell_type": "code",
   "execution_count": 4,
   "metadata": {},
   "outputs": [],
   "source": [
    "import pprint as pp\n",
    "def lu_solve(A, b):\n",
    "    \n",
    "    L, U = doolittle(A)\n",
    "    \n",
    "    print(\"Lower diagonal matrix: \\n\")\n",
    "    pp.pprint(L)\n",
    "    print('\\n')\n",
    "    print(\"Upper diagonal matrix: \\n\")\n",
    "    pp.pprint(U)\n",
    "    print('\\n')\n",
    "    \n",
    "    y = forward_substitution(L, b)\n",
    "    \n",
    "    x = back_substitution(U,y)\n",
    "    print(\"Solution: \\n\")\n",
    "    pp.pprint(x)\n",
    "    \n",
    "    return"
   ]
  },
  {
   "cell_type": "code",
   "execution_count": 7,
   "metadata": {},
   "outputs": [],
   "source": [
    "A = np.array([[1.44,-0.36,5.52,0.00],[-0.36,10.33,-7.78,0.00],[5.52,-7.78,28.40,9.00],[0.00,0.00,9.00,61.00]])\n",
    "b = np.array([[0.04],[-2.15],[0.0],[0.88]])"
   ]
  },
  {
   "cell_type": "code",
   "execution_count": 8,
   "metadata": {},
   "outputs": [],
   "source": [
    "from math import sqrt\n",
    "def cholesky(A):\n",
    "    \"\"\"\n",
    "    Performs a Cholesky decomposition of A, which must \n",
    "    be a symmetric and positive definite matrix. The function\n",
    "    returns the lower variant triangular matrix, L.\n",
    "    \"\"\"\n",
    "    n = len(A)\n",
    "\n",
    "    # Create zero matrix for L\n",
    "    L = [[0.0] * n for i in range(n)]\n",
    "\n",
    "    # Perform the Cholesky decomposition\n",
    "    for i in range(n):\n",
    "        for k in range(i+1):\n",
    "            tmp_sum = sum(L[i][j] * L[k][j] for j in range(k))\n",
    "            \n",
    "            if (i == k): # diagonal elements\n",
    "                L[i][k] = sqrt(A[i][i] - tmp_sum)\n",
    "            else:\n",
    "                L[i][k] = (1.0 / L[k][k] * (A[i][k] - tmp_sum))\n",
    "    return L"
   ]
  },
  {
   "cell_type": "markdown",
   "metadata": {},
   "source": [
    "Converting to numpy array"
   ]
  },
  {
   "cell_type": "code",
   "execution_count": 9,
   "metadata": {},
   "outputs": [],
   "source": [
    "X = cholesky(A)\n",
    "L = np.asarray(X,dtype=float)\n",
    "L_t = L.transpose()"
   ]
  },
  {
   "cell_type": "markdown",
   "metadata": {},
   "source": [
    "Overall equation solver (modifying lu_solve(A,b)). Here U = transpose of L"
   ]
  },
  {
   "cell_type": "code",
   "execution_count": 10,
   "metadata": {},
   "outputs": [],
   "source": [
    "def lu_solve(A, b, L, L_t):\n",
    "    print(\"Lower diagonal matrix: \\n\")\n",
    "    pp.pprint(L)\n",
    "    print('\\n')\n",
    "    print(\"Transpose of lower diagonal matrix: \\n\")\n",
    "    pp.pprint(L_t)\n",
    "    print('\\n')\n",
    "    \n",
    "    y = forward_substitution(L, b)\n",
    "    \n",
    "    x = back_substitution(L_t,y)\n",
    "    print(\"Solution: \\n\")\n",
    "    pp.pprint(x)\n",
    "    \n",
    "    return"
   ]
  },
  {
   "cell_type": "code",
   "execution_count": 11,
   "metadata": {
    "scrolled": true
   },
   "outputs": [
    {
     "name": "stdout",
     "output_type": "stream",
     "text": [
      "Lower diagonal matrix: \n",
      "\n",
      "array([[ 1.2,  0. ,  0. ,  0. ],\n",
      "       [-0.3,  3.2,  0. ,  0. ],\n",
      "       [ 4.6, -2. ,  1.8,  0. ],\n",
      "       [ 0. ,  0. ,  5. ,  6. ]])\n",
      "\n",
      "\n",
      "Transpose of lower diagonal matrix: \n",
      "\n",
      "array([[ 1.2, -0.3,  4.6,  0. ],\n",
      "       [ 0. ,  3.2, -2. ,  0. ],\n",
      "       [ 0. ,  0. ,  1.8,  5. ],\n",
      "       [ 0. ,  0. ,  0. ,  6. ]])\n",
      "\n",
      "\n",
      "Solution: \n",
      "\n",
      "array([[ 3.09212567],\n",
      "       [-0.73871706],\n",
      "       [-0.8475723 ],\n",
      "       [ 0.13947788]])\n"
     ]
    }
   ],
   "source": [
    "lu_solve(A,b,L,L_t)"
   ]
  }
 ],
 "metadata": {
  "kernelspec": {
   "display_name": "Python 3",
   "language": "python",
   "name": "python3"
  },
  "language_info": {
   "codemirror_mode": {
    "name": "ipython",
    "version": 3
   },
   "file_extension": ".py",
   "mimetype": "text/x-python",
   "name": "python",
   "nbconvert_exporter": "python",
   "pygments_lexer": "ipython3",
   "version": "3.8.5"
  }
 },
 "nbformat": 4,
 "nbformat_minor": 4
}
