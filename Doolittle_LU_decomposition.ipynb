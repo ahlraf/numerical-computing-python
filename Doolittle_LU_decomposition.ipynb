{
 "cells": [
  {
   "cell_type": "markdown",
   "metadata": {},
   "source": [
    "#### Implementation of Doolittle LU decomposition to find L, U"
   ]
  },
  {
   "cell_type": "code",
   "execution_count": 1,
   "metadata": {},
   "outputs": [],
   "source": [
    "import numpy as np"
   ]
  },
  {
   "cell_type": "code",
   "execution_count": 2,
   "metadata": {},
   "outputs": [],
   "source": [
    "def doolittle(A):\n",
    "\n",
    "    n = A.shape[0]\n",
    "    L = np.zeros((n,n), np.float64)\n",
    "    U = np.zeros((n,n), np.float64)\n",
    "\n",
    "    for i in range(n):\n",
    "        # U\n",
    "        for k in range(i,n):\n",
    "            s1 = 0  # summation of L(i, j)*U(j, k) \n",
    "            for j in range(i):\n",
    "                s1 += L[i,j]*U[j,k]\n",
    "            U[i,k] = A[i,k] - s1\n",
    "\n",
    "        # L\n",
    "        for k in range(i,n):\n",
    "            if i==k:\n",
    "                # diagonal terms of L \n",
    "                L[i,i] = 1\n",
    "            else:\n",
    "                s2 = 0 # summation of L(k, j)*U(j, i) \n",
    "                for j in range(i):\n",
    "                    s2 += L[k,j]*U[j,i]\n",
    "                L[k,i] = (A[k,i] - s2)/U[i,i]\n",
    "\n",
    "    return L, U"
   ]
  },
  {
   "cell_type": "markdown",
   "metadata": {},
   "source": [
    "#### Solving equations after LU factorization\n",
    "_Implementation of forward substitution_"
   ]
  },
  {
   "cell_type": "code",
   "execution_count": 3,
   "metadata": {},
   "outputs": [],
   "source": [
    "def forward_substitution(L, b):\n",
    "    \n",
    "    # Get number of rows\n",
    "    n = L.shape[0]\n",
    "    \n",
    "    # Allocating space for the solution vector\n",
    "    y = np.zeros_like(b, dtype=np.double);\n",
    "    \n",
    "    # Here we perform the forward-substitution.  \n",
    "    # Initializing  with the first row.\n",
    "    y[0] = b[0] / L[0, 0]\n",
    "    \n",
    "    # Looping over rows in reverse (from the bottom  up), \n",
    "    # starting with the second to last row, because  the \n",
    "    # last row solve was completed in the last step.\n",
    "    for i in range(1, n):\n",
    "        y[i] = (b[i] - np.dot(L[i,:i], y[:i])) / L[i,i]\n",
    "        \n",
    "    return y"
   ]
  },
  {
   "cell_type": "markdown",
   "metadata": {},
   "source": [
    "_Implementation of back substitution_"
   ]
  },
  {
   "cell_type": "code",
   "execution_count": 4,
   "metadata": {},
   "outputs": [],
   "source": [
    "def back_substitution(U, y):\n",
    "    \n",
    "    # Number of rows\n",
    "    n = U.shape[0]\n",
    "    \n",
    "    # Allocating space for the solution vector\n",
    "    x = np.zeros_like(y, dtype=np.double);\n",
    "\n",
    "    # Here we perform the back-substitution.  \n",
    "    # Initializing with the last row.\n",
    "    x[-1] = y[-1] / U[-1, -1]\n",
    "    \n",
    "    # Looping over rows in reverse (from the bottom up), \n",
    "    # starting with the second to last row, because the \n",
    "    # last row solve was completed in the last step.\n",
    "    for i in range(n-2, -1, -1):\n",
    "        x[i] = (y[i] - np.dot(U[i,i:], x[i:])) / U[i,i]\n",
    "        \n",
    "    return x"
   ]
  },
  {
   "cell_type": "markdown",
   "metadata": {},
   "source": [
    "#### Overall equation solution"
   ]
  },
  {
   "cell_type": "code",
   "execution_count": 5,
   "metadata": {},
   "outputs": [],
   "source": [
    "import pprint as pp\n",
    "def lu_solve(A, b):\n",
    "    \n",
    "    L, U = doolittle(A)\n",
    "    \n",
    "    print(\"Lower diagonal matrix: \\n\")\n",
    "    pp.pprint(L)\n",
    "    print('\\n')\n",
    "    print(\"Upper diagonal matrix: \\n\")\n",
    "    pp.pprint(U)\n",
    "    print('\\n')\n",
    "    \n",
    "    y = forward_substitution(L, b)\n",
    "    \n",
    "    x = back_substitution(U,y)\n",
    "    print(\"Solution: \\n\")\n",
    "    pp.pprint(x)\n",
    "    \n",
    "    return"
   ]
  },
  {
   "cell_type": "code",
   "execution_count": 6,
   "metadata": {},
   "outputs": [],
   "source": [
    "A = np.array([[3.,-1.,4.],[-2.,0.,5.],[7.,2.,-2.]])\n",
    "b = np.array([[6.,-4.],[3.,2.],[7.,-5.]])"
   ]
  },
  {
   "cell_type": "code",
   "execution_count": 7,
   "metadata": {},
   "outputs": [
    {
     "name": "stdout",
     "output_type": "stream",
     "text": [
      "Lower diagonal matrix: \n",
      "\n",
      "array([[ 1.        ,  0.        ,  0.        ],\n",
      "       [-0.66666667,  1.        ,  0.        ],\n",
      "       [ 2.33333333, -6.5       ,  1.        ]])\n",
      "\n",
      "\n",
      "Upper diagonal matrix: \n",
      "\n",
      "array([[ 3.        , -1.        ,  4.        ],\n",
      "       [ 0.        , -0.66666667,  7.66666667],\n",
      "       [ 0.        ,  0.        , 38.5       ]])\n",
      "\n",
      "\n",
      "Solution: \n",
      "\n",
      "array([[ 1.00000000e+00, -1.00000000e+00],\n",
      "       [ 1.00000000e+00,  1.00000000e+00],\n",
      "       [ 1.00000000e+00,  2.30695693e-17]])\n"
     ]
    }
   ],
   "source": [
    "lu_solve(A,b)"
   ]
  },
  {
   "cell_type": "markdown",
   "metadata": {},
   "source": [
    "<br><br>\n",
    "#### Inverse of A "
   ]
  },
  {
   "cell_type": "code",
   "execution_count": 8,
   "metadata": {},
   "outputs": [],
   "source": [
    "n = A.shape[0]\n",
    "I = np.identity(n)"
   ]
  },
  {
   "cell_type": "markdown",
   "metadata": {},
   "source": [
    "Modifying lu_solve function"
   ]
  },
  {
   "cell_type": "code",
   "execution_count": 9,
   "metadata": {},
   "outputs": [],
   "source": [
    "def lu_inverse(A, I):\n",
    "    \n",
    "    L, U = doolittle(A)\n",
    "    \n",
    "    y = forward_substitution(L, I)\n",
    "    \n",
    "    x = back_substitution(U,y)\n",
    "#     print(\"Inverse of A: \\n\")\n",
    "#     pp.pprint(x)\n",
    "    \n",
    "    return x"
   ]
  },
  {
   "cell_type": "code",
   "execution_count": 10,
   "metadata": {
    "scrolled": true
   },
   "outputs": [
    {
     "data": {
      "text/plain": [
       "array([[ 0.12987013, -0.07792208,  0.06493506],\n",
       "       [-0.4025974 ,  0.44155844,  0.2987013 ],\n",
       "       [ 0.05194805,  0.16883117,  0.02597403]])"
      ]
     },
     "execution_count": 10,
     "metadata": {},
     "output_type": "execute_result"
    }
   ],
   "source": [
    "lu_inverse(A,I)"
   ]
  },
  {
   "cell_type": "code",
   "execution_count": 11,
   "metadata": {},
   "outputs": [
    {
     "data": {
      "text/plain": [
       "array([[ 1.,  0., -0.],\n",
       "       [-0.,  1., -0.],\n",
       "       [ 0., -0.,  1.]])"
      ]
     },
     "execution_count": 11,
     "metadata": {},
     "output_type": "execute_result"
    }
   ],
   "source": [
    "a = lu_inverse(A,I)\n",
    "np.dot(A,a).round()"
   ]
  }
 ],
 "metadata": {
  "kernelspec": {
   "display_name": "Python 3",
   "language": "python",
   "name": "python3"
  },
  "language_info": {
   "codemirror_mode": {
    "name": "ipython",
    "version": 3
   },
   "file_extension": ".py",
   "mimetype": "text/x-python",
   "name": "python",
   "nbconvert_exporter": "python",
   "pygments_lexer": "ipython3",
   "version": "3.8.5"
  }
 },
 "nbformat": 4,
 "nbformat_minor": 4
}
