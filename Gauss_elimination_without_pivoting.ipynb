{
 "cells": [
  {
   "cell_type": "code",
   "execution_count": 2,
   "metadata": {},
   "outputs": [],
   "source": [
    "import numpy as np\n",
    "\n",
    "def GaussElimination_NoPivot(A, b):\n",
    "    \"\"\"\n",
    "    Gaussian elimination with no pivoting.\n",
    "    input: A is an n x n nonsingular matrix\n",
    "           b is an n x 1 vector\n",
    "    output: x is the solution of Ax=b.\n",
    "    post-condition: A and b have been modified. \n",
    "    \"\"\"\n",
    "    n =  len(A)\n",
    "    if b.size != n:\n",
    "        raise ValueError(\"Invalid argument: incompatible sizes between A & b.\", b.size, n)\n",
    "    for pivot_row in range(n-1):\n",
    "        for row in range(pivot_row+1, n):\n",
    "            multiplier = A[row][pivot_row]/A[pivot_row][pivot_row]\n",
    "            #the only one in this column since the rest are zero\n",
    "            A[row][pivot_row] = multiplier\n",
    "            for col in range(pivot_row + 1, n):\n",
    "                A[row][col] = A[row][col] - multiplier*A[pivot_row][col]\n",
    "            #Equation solution column\n",
    "            b[row] = b[row] - multiplier*b[pivot_row]\n",
    "    print(A)\n",
    "    print(b)\n",
    "    x = np.zeros(n)\n",
    "    k = n-1\n",
    "    x[k] = b[k]/A[k,k]\n",
    "    while k >= 0:\n",
    "        x[k] = (b[k] - np.dot(A[k,k+1:],x[k+1:]))/A[k,k]\n",
    "        k = k-1\n",
    "    return x\n",
    "\n",
    "\n"
   ]
  },
  {
   "cell_type": "code",
   "execution_count": 3,
   "metadata": {},
   "outputs": [
    {
     "name": "stdout",
     "output_type": "stream",
     "text": [
      "[[  2.           3.           1.        ]\n",
      " [  1.5         -1.5         -6.5       ]\n",
      " [ -0.5         -3.66666667 -21.33333333]]\n",
      "[[  25. ]\n",
      " [ -46.5]\n",
      " [-128. ]]\n",
      "[2. 5. 6.]\n"
     ]
    }
   ],
   "source": [
    "A = np.array([[2.,3.,1.],[3.,3.,-5.],[-1.,4.,2.]])\n",
    "b =  np.array([[25.],[-9.],[30.]])\n",
    "print(GaussElimination_NoPivot(A,b))"
   ]
  }
 ],
 "metadata": {
  "kernelspec": {
   "display_name": "Python 3",
   "language": "python",
   "name": "python3"
  },
  "language_info": {
   "codemirror_mode": {
    "name": "ipython",
    "version": 3
   },
   "file_extension": ".py",
   "mimetype": "text/x-python",
   "name": "python",
   "nbconvert_exporter": "python",
   "pygments_lexer": "ipython3",
   "version": "3.8.5"
  }
 },
 "nbformat": 4,
 "nbformat_minor": 4
}
